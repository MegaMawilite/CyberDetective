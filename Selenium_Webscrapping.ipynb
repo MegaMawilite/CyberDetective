{
 "cells": [
  {
   "cell_type": "code",
   "execution_count": 2,
   "id": "385721ae",
   "metadata": {},
   "outputs": [],
   "source": [
    "from selenium import webdriver\n",
    "from selenium.webdriver.chrome.options import Options\n",
    "from selenium.webdriver.common.by import By\n",
    "\n",
    "# Créez un objet Options pour personnaliser le navigateur Chrome\n",
    "options = Options()\n",
    "\n",
    "# Définissez la taille de la fenêtre du navigateur\n",
    "# Cette option peut être utile si vous voulez ouvrir le navigateur\n",
    "# avec une taille spécifique pour prendre des captures d'écran ou\n",
    "# pour simuler un appareil mobile\n",
    "options.add_argument(\"--window-size=1920,1200\")\n",
    "\n",
    "# permet d'empecher l'ouverture de la fenetre\n",
    "# (désactivé pour l'instant)\n",
    "# options.headless = True\n",
    "\n",
    "# Définissez le chemin vers le fichier exécutable du driver Chrome\n",
    "DRIVER_PATH = 'chromedriver'\n",
    "\n",
    "# Créez une instance du navigateur en utilisant les options personnalisées\n",
    "driver = webdriver.Chrome(options=options, executable_path=DRIVER_PATH)\n",
    "\n",
    "# Ouvrez la page web souhaitée\n",
    "driver.get(\"https://books.toscrape.com/\")\n",
    "\n",
    "##different methode to get element on html\n",
    "# h1 = driver.find_element(By.NAME, 'h1')\n",
    "# h1 = driver.find_element(By.CLASS_NAME, 'someclass')\n",
    "# h1 = driver.find_element(By.XPATH, '/html/body/div[4]/section[1]/div[2]/div')\n",
    "# h1 = driver.find_element(By.XPATH, '/html/body/h1')\n",
    "# h1 = driver.find_element(By.ID, 'greatID')\n",
    "# content = driver.find_element(By.CSS_SELECTOR, 'p.content')\n",
    "# Utilisez le sélecteur adéquat pour trouver l'élément h1\n",
    "\n",
    "# namepkm = driver.find_element(By.XPATH, '/html/body/div[4]/section[1]/div[2]/div')\n",
    "\n",
    "# Affichez le texte de l'élément h1\n",
    "# print(namepkm.getAttribute(\"src\"))\n",
    "\n",
    "# Fermez le navigateur\n",
    "driver.quit()\n"
   ]
  },
  {
   "cell_type": "code",
   "execution_count": null,
   "id": "55f5231c",
   "metadata": {},
   "outputs": [],
   "source": []
  }
 ],
 "metadata": {
  "kernelspec": {
   "display_name": "Python 3 (ipykernel)",
   "language": "python",
   "name": "python3"
  },
  "language_info": {
   "codemirror_mode": {
    "name": "ipython",
    "version": 3
   },
   "file_extension": ".py",
   "mimetype": "text/x-python",
   "name": "python",
   "nbconvert_exporter": "python",
   "pygments_lexer": "ipython3",
   "version": "3.9.12"
  }
 },
 "nbformat": 4,
 "nbformat_minor": 5
}

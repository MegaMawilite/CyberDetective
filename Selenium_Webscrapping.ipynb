{
 "cells": [
  {
   "cell_type": "code",
   "execution_count": 15,
   "id": "385721ae",
   "metadata": {},
   "outputs": [
    {
     "name": "stdout",
     "output_type": "stream",
     "text": [
      "                  Title   Price             Rating Availability  \\\n",
      "0  A Light in the Attic  £51.77  star-rating Three     In stock   \n",
      "\n",
      "                                           Image URL  \n",
      "0  https://books.toscrape.com/media/cache/2c/da/2...  \n"
     ]
    }
   ],
   "source": [
    "import pandas as pd\n",
    "from selenium import webdriver\n",
    "from selenium.webdriver.chrome.options import Options\n",
    "from selenium.webdriver.common.by import By\n",
    "\n",
    "options = Options()\n",
    "options.add_argument(\"--window-size=1920,1200\")\n",
    "\n",
    "# the line below if for preventing window closing\n",
    "# options.headless = True\n",
    "\n",
    "DRIVER_PATH = 'chromedriver'\n",
    "driver = webdriver.Chrome(options=options, executable_path=DRIVER_PATH)\n",
    "\n",
    "# init\n",
    "books = {\"Title\": [],\n",
    "         \"Price\": [],\n",
    "         \"Rating\": [],\n",
    "         \"Availability\": [],\n",
    "         \"Image URL\": []}\n",
    "\n",
    "# page loading for each page\n",
    "driver.get(\"https://books.toscrape.com/catalogue/page-1.html\")\n",
    "\n",
    "# data scrapping for each item of the page\n",
    "title = driver.find_element(By.XPATH, '/html/body/div/div/div/div/section/div[2]/ol/li[1]/article/h3/a')\n",
    "price = driver.find_element(By.XPATH, '/html/body/div/div/div/div/section/div[2]/ol/li[1]/article/div[2]/p[1]')\n",
    "stock = driver.find_element(By.XPATH, '/html/body/div/div/div/div/section/div[2]/ol/li[1]/article/div[2]/p[2]')\n",
    "stars = driver.find_element(By.XPATH, '/html/body/div/div/div/div/section/div[2]/ol/li[1]/article/p')\n",
    "image = driver.find_element(By.XPATH, '/html/body/div/div/div/div/section/div[2]/ol/li[1]/article/div[1]/a/img')\n",
    "\n",
    "# putting values in the dictionary\n",
    "books[\"Title\"].append(title.get_attribute(\"title\"))\n",
    "books[\"Price\"].append(price.text)\n",
    "books[\"Rating\"].append(stars.get_attribute(\"class\"))\n",
    "books[\"Availability\"].append(stock.text)\n",
    "books[\"Image URL\"].append(image.get_attribute(\"src\"))\n",
    "\n",
    "# dict -> dataframe\n",
    "df_books = pd.DataFrame(books)\n",
    "print(df_books)\n",
    "df_books.to_csv('books.csv')\n",
    "\n",
    "driver.quit()"
   ]
  },
  {
   "cell_type": "code",
   "execution_count": null,
   "id": "55f5231c",
   "metadata": {},
   "outputs": [],
   "source": []
  }
 ],
 "metadata": {
  "kernelspec": {
   "display_name": "Python 3 (ipykernel)",
   "language": "python",
   "name": "python3"
  },
  "language_info": {
   "codemirror_mode": {
    "name": "ipython",
    "version": 3
   },
   "file_extension": ".py",
   "mimetype": "text/x-python",
   "name": "python",
   "nbconvert_exporter": "python",
   "pygments_lexer": "ipython3",
   "version": "3.9.12"
  }
 },
 "nbformat": 4,
 "nbformat_minor": 5
}
